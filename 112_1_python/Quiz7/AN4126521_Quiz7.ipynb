{
  "nbformat": 4,
  "nbformat_minor": 0,
  "metadata": {
    "colab": {
      "provenance": []
    },
    "kernelspec": {
      "name": "python3",
      "display_name": "Python 3"
    },
    "language_info": {
      "name": "python"
    }
  },
  "cells": [
    {
      "cell_type": "markdown",
      "source": [
        "# 進階測驗\n",
        "\n",
        "時間: 11:10-12:00；11:00-11:10為題目解講時間。如果在解講時間仍要做答而沒有聽清楚題目要做什麼，請自行負責。\n",
        "\n",
        "方式: 一定要到教室進行小考，且有安排座位。請確定你的位置與你的學號相符。\n",
        "\n",
        "不能與同學交談，不能傳訊息給同學，不能在寢室考試。它就是一次實體考試。只是線上的考試卷很方便，不用發下去。也幫你們做好了答題的位置。而且提前了10分鐘給說明。如果有問題就舉手問助教，問老師。但ChatGPT的答案不一定對，老師的題目也不見得是完備的。(因為如果題目很完整，說明的非常詳細，那麼直接給ChatGPT就有答案了，大家就複製貼上加註解就好了。老師也希望大家練習把不完備的說法給補齊。)\n",
        "\n",
        "說明: 首先這個檔案是僅供檢視的，所以你必須在自己的雲端硬碟中另存副本，再開始進行你自己的回答。回答過程中可以使用ChatGPT, 最後需要附上ChatGPT的使用連結。(在ChatGPT右上角的Share Chat，把連結複製下來貼在最下面。為什麼要最下面呢？因為這個Share Chat必須是在你完成了所有問題的詢問之後再給出來，才會有完整的問答)\n",
        "\n",
        "每一題有不同的分數，而每一題當中，程式碼都要有註解。請以文字框，把你的想法寫出來。評分將包含程式能否正確完成，有無註解，以及該回答的文字框中答案的完整性。\n",
        "\n",
        "最後請將這個檔案下載成『你的學號_Quiz7.ipynb』檔案，並上傳到moodle繳交完成測驗。\n",
        "\n",
        "以下這個文字框是要填寫的："
      ],
      "metadata": {
        "id": "skxGBDEoz1_Z"
      }
    },
    {
      "cell_type": "markdown",
      "source": [
        "** 學號: AN4126521**\n",
        "\n",
        "** 姓名: 江婕瀅**\n",
        "\n",
        "** 系級: 不分116**"
      ],
      "metadata": {
        "id": "WFNItuXM0qHs"
      }
    },
    {
      "cell_type": "markdown",
      "source": [
        "# 第一題：把圖片改成灰階並列\n",
        "\n",
        "從網路上找到一張照片，並且把它改成灰階，然後把兩張圖並列"
      ],
      "metadata": {
        "id": "HT2PzR8k01Ig"
      }
    },
    {
      "cell_type": "code",
      "execution_count": 1,
      "metadata": {
        "id": "z5C9GBOIzyu8",
        "colab": {
          "base_uri": "https://localhost:8080/",
          "height": 135
        },
        "outputId": "9fa871d1-f4c7-4ff0-81ab-eb52949aee96"
      },
      "outputs": [
        {
          "output_type": "display_data",
          "data": {
            "text/plain": [
              "<Figure size 640x480 with 2 Axes>"
            ],
            "image/png": "[encoded data removed]"
          },
          "metadata": {}
        }
      ],
      "source": [
        "import urllib.request\n",
        "from PIL import Image\n",
        "import matplotlib.pyplot as plt\n",
        "\n",
        "# 下載 Python 的 LOGO 照片\n",
        "url = \"https://www.python.org/static/community_logos/python-logo-master-v3-TM.png\"\n",
        "urllib.request.urlretrieve(url, \"python_logo.png\")\n",
        "\n",
        "# 將照片轉換成灰階\n",
        "image = Image.open(\"python_logo.png\").convert(\"L\")\n",
        "\n",
        "# 顯示原始照片和灰階照片並列\n",
        "fig, axs = plt.subplots(1, 2)\n",
        "axs[0].imshow(Image.open(\"python_logo.png\"))\n",
        "axs[0].set_title(\"Original\")\n",
        "axs[0].axis(\"off\")\n",
        "axs[1].imshow(image, cmap=\"gray\")\n",
        "axs[1].set_title(\"Grayscale\")\n",
        "axs[1].axis(\"off\")\n",
        "plt.show()"
      ]
    },
    {
      "cell_type": "markdown",
      "source": [
        "# 第二題，合併圖片\n",
        "\n",
        "請將成大首頁快訊中的圖片，由左而右拼接成一張大圖\n",
        "\n"
      ],
      "metadata": {
        "id": "p9Qx1IEz0rtf"
      }
    },
    {
      "cell_type": "code",
      "source": [
        "import requests\n",
        "from PIL import Image\n",
        "import io\n",
        "from bs4 import BeautifulSoup\n",
        "\n",
        "# 取得台灣成功大學首頁的 HTML 內容\n",
        "url = \"https://www.ncku.edu.tw/\"\n",
        "response = requests.get(url)\n",
        "html_content = response.text\n",
        "\n",
        "# 使用 BeautifulSoup 解析 HTML 內容\n",
        "soup = BeautifulSoup(html_content, \"html.parser\")\n",
        "\n",
        "# 找到 class 是 \"d-item v-it col-sm-3\" 的倒數八個 div 標籤\n",
        "div_tags = soup.find_all(\"div\", class_=\"d-item v-it col-sm-3\")[-8:]\n",
        "\n",
        "# 取得圖片 URL\n",
        "image_urls = []\n",
        "for div_tag in div_tags:\n",
        "    img_tag = div_tag.find(\"img\")\n",
        "    if img_tag and img_tag.has_attr(\"src\") and img_tag[\"src\"].startswith(\"https://\"):\n",
        "        image_urls.append(img_tag[\"src\"])\n",
        "\n",
        "# 下載圖片並拼接成一張大圖\n",
        "images = []\n",
        "for image_url in image_urls:\n",
        "    response = requests.get(image_url)\n",
        "    image = Image.open(io.BytesIO(response.content))\n",
        "    images.append(image)\n",
        "\n",
        "# 計算大圖的寬度和高度\n",
        "total_width = sum(image.width for image in images)\n",
        "max_height = max(image.height for image in images)\n",
        "\n",
        "# 建立一張新的大圖\n",
        "new_image = Image.new(\"RGB\", (total_width, max_height))\n",
        "\n",
        "# 將圖片拼接到大圖上\n",
        "x_offset = 0\n",
        "for image in images:\n",
        "    new_image.paste(image, (x_offset, 0))\n",
        "    x_offset += image.width\n",
        "\n",
        "# 顯示拼接後的大圖\n",
        "new_image.show()"
      ],
      "metadata": {
        "id": "4iDyWTynuKnG",
        "colab": {
          "base_uri": "https://localhost:8080/",
          "height": 248
        },
        "outputId": "ebd6c745-52dd-4b10-af85-39422b18d24f"
      },
      "execution_count": 13,
      "outputs": [
        {
          "output_type": "error",
          "ename": "ValueError",
          "evalue": "ignored",
          "traceback": [
            "\u001b[0;31m---------------------------------------------------------------------------\u001b[0m",
            "\u001b[0;31mValueError\u001b[0m                                Traceback (most recent call last)",
            "\u001b[0;32m<ipython-input-13-b28554f01aab>\u001b[0m in \u001b[0;36m<cell line: 33>\u001b[0;34m()\u001b[0m\n\u001b[1;32m     31\u001b[0m \u001b[0;31m# 計算大圖的寬度和高度\u001b[0m\u001b[0;34m\u001b[0m\u001b[0;34m\u001b[0m\u001b[0m\n\u001b[1;32m     32\u001b[0m \u001b[0mtotal_width\u001b[0m \u001b[0;34m=\u001b[0m \u001b[0msum\u001b[0m\u001b[0;34m(\u001b[0m\u001b[0mimage\u001b[0m\u001b[0;34m.\u001b[0m\u001b[0mwidth\u001b[0m \u001b[0;32mfor\u001b[0m \u001b[0mimage\u001b[0m \u001b[0;32min\u001b[0m \u001b[0mimages\u001b[0m\u001b[0;34m)\u001b[0m\u001b[0;34m\u001b[0m\u001b[0;34m\u001b[0m\u001b[0m\n\u001b[0;32m---> 33\u001b[0;31m \u001b[0mmax_height\u001b[0m \u001b[0;34m=\u001b[0m \u001b[0mmax\u001b[0m\u001b[0;34m(\u001b[0m\u001b[0mimage\u001b[0m\u001b[0;34m.\u001b[0m\u001b[0mheight\u001b[0m \u001b[0;32mfor\u001b[0m \u001b[0mimage\u001b[0m \u001b[0;32min\u001b[0m \u001b[0mimages\u001b[0m\u001b[0;34m)\u001b[0m\u001b[0;34m\u001b[0m\u001b[0;34m\u001b[0m\u001b[0m\n\u001b[0m\u001b[1;32m     34\u001b[0m \u001b[0;34m\u001b[0m\u001b[0m\n\u001b[1;32m     35\u001b[0m \u001b[0;31m# 建立一張新的大圖\u001b[0m\u001b[0;34m\u001b[0m\u001b[0;34m\u001b[0m\u001b[0m\n",
            "\u001b[0;31mValueError\u001b[0m: max() arg is an empty sequence"
          ]
        }
      ]
    },
    {
      "cell_type": "markdown",
      "source": [
        "# 第三題：其他效果\n",
        "\n",
        "自行將第一題的圖片改一個你想做的效果，並完成它"
      ],
      "metadata": {
        "id": "lUnPS_2FuJPp"
      }
    },
    {
      "cell_type": "code",
      "source": [
        "import urllib.request\n",
        "from PIL import Image\n",
        "import matplotlib.pyplot as plt\n",
        "import numpy as np\n",
        "\n",
        "# 下載 Python 的 LOGO 照片\n",
        "url = \"https://www.python.org/static/community_logos/python-logo-master-v3-TM.png\"\n",
        "urllib.request.urlretrieve(url, \"python_logo.png\")\n",
        "\n",
        "# 將照片轉換成灰階\n",
        "image = Image.open(\"python_logo.png\").convert(\"L\")\n",
        "\n",
        "# 將照片轉換成七色彩虹顏色\n",
        "rainbow_image = image.convert(\"P\", palette=Image.ADAPTIVE, colors=7)\n",
        "\n",
        "# 建立七色彩虹顏色的調色盤\n",
        "rainbow_palette = [np.array([255 * i/6, 0, 0]) for i in range(7)]\n",
        "rainbow_palette = np.array(rainbow_palette, dtype=np.uint8).flatten()\n",
        "\n",
        "# 將灰階照片的調色盤替換為七色彩虹顏色的調色盤\n",
        "rainbow_image.putpalette(rainbow_palette)\n",
        "\n",
        "# 顯示原始照片和七色彩虹照片並列\n",
        "fig, axs = plt.subplots(1, 2)\n",
        "axs[0].imshow(Image.open(\"python_logo.png\"))\n",
        "axs[0].set_title(\"Original\")\n",
        "axs[0].axis(\"off\")\n",
        "axs[1].imshow(rainbow_image)\n",
        "axs[1].set_title(\"Rainbow\")\n",
        "axs[1].axis(\"off\")\n",
        "plt.show()"
      ],
      "metadata": {
        "id": "3KR0GYs4zTwz",
        "colab": {
          "base_uri": "https://localhost:8080/",
          "height": 135
        },
        "outputId": "b5fae519-e214-4540-a9c7-4c70cc4e17cb"
      },
      "execution_count": 19,
      "outputs": [
        {
          "output_type": "display_data",
          "data": {
            "text/plain": [
              "<Figure size 640x480 with 2 Axes>"
            ],
            "image/png": "[encoded data removed]"
          },
          "metadata": {}
        }
      ]
    },
    {
      "cell_type": "markdown",
      "source": [
        "# 有使用ChatGPT嗎: 有（ChatGPT 無法使用，因此我改用 Chat Everywhere）\n",
        "\n",
        "# 「**有**」使用的話，對話連結是: https://chateverywhere.app?shareable_conversation_id=a506fbe1-7ee4-4843-9465-af4c8c1f3a80"
      ],
      "metadata": {
        "id": "zSW59yP42Y1s"
      }
    },
    {
      "cell_type": "code",
      "source": [],
      "metadata": {
        "id": "--5OACs74G35"
      },
      "execution_count": 19,
      "outputs": []
    }
  ]
}
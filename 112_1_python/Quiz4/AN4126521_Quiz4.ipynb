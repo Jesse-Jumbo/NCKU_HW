{
  "nbformat": 4,
  "nbformat_minor": 0,
  "metadata": {
    "colab": {
      "provenance": [],
      "collapsed_sections": [
        "skxGBDEoz1_Z",
        "HT2PzR8k01Ig"
      ]
    },
    "kernelspec": {
      "name": "python3",
      "display_name": "Python 3"
    },
    "language_info": {
      "name": "python"
    }
  },
  "cells": [
    {
      "cell_type": "markdown",
      "source": [
        "# 基礎測驗\n",
        "\n",
        "說明: 首先這個檔案是僅供檢視的，所以你必須在自己的雲端硬碟中另存副本，再開始進行你自己的回答。回答過程中可以使用ChatGPT, 最後需要附上ChatGPT的使用連結。(在ChatGPT右上角的Share Chat，把連結複製下來貼在最下面。為什麼要最下面呢？因為這個Share Chat必須是在你完成了所有問題的詢問之後再給出來，才會有完整的問答)\n",
        "\n",
        "每一題有不同的分數，而每一題當中，程式碼都要有註解。請以文字框，把你的想法寫出來。評分將包含程式能否正確完成，有無註解，以及該回答的文字框中答案的完整性。\n",
        "\n",
        "最後請將這個檔案下載成『你的學號_Quiz4.ipynb』檔案，並上傳到moodle繳交完成測驗。\n",
        "\n",
        "以下這個文字框是要填寫的："
      ],
      "metadata": {
        "id": "skxGBDEoz1_Z"
      }
    },
    {
      "cell_type": "markdown",
      "source": [
        "** 學號: n4126521**\n",
        "\n",
        "** 姓名: 江婕瀅**\n",
        "\n",
        "** 系級: 不分 116**"
      ],
      "metadata": {
        "id": "WFNItuXM0qHs"
      }
    },
    {
      "cell_type": "markdown",
      "source": [
        "# 第一題，讀取xlsx檔案\n",
        "\n",
        "請用你自己電腦上的EXCEL或google spreadsheet，製作一個Excel檔案。\n",
        "內含三個欄位，學號、姓名以及成績。請自行輸入20筆假資料。\n",
        "把這個檔案放進你的Colab中，寫一個程式將它讀取進來，並且計算出成績的平均數。\n",
        "\n",
        "注意：這個xlsx檔案在最後上傳到moodle時需要一併上傳。"
      ],
      "metadata": {
        "id": "p9Qx1IEz0rtf"
      }
    },
    {
      "cell_type": "code",
      "execution_count": 7,
      "metadata": {
        "id": "z5C9GBOIzyu8",
        "colab": {
          "base_uri": "https://localhost:8080/",
          "height": 76
        },
        "outputId": "3ee072f7-7498-4947-dd1f-5e49ee96da96"
      },
      "outputs": [
        {
          "output_type": "display_data",
          "data": {
            "text/plain": [
              "<IPython.core.display.HTML object>"
            ],
            "text/html": [
              "\n",
              "     <input type=\"file\" id=\"files-5200eb88-6f3c-4d48-9c91-8117b80d52a6\" name=\"files[]\" multiple disabled\n",
              "        style=\"border:none\" />\n",
              "     <output id=\"result-5200eb88-6f3c-4d48-9c91-8117b80d52a6\">\n",
              "      Upload widget is only available when the cell has been executed in the\n",
              "      current browser session. Please rerun this cell to enable.\n",
              "      </output>\n",
              "      <script>// Copyright 2017 Google LLC\n",
              "//\n",
              "// Licensed under the Apache License, Version 2.0 (the \"License\");\n",
              "// you may not use this file except in compliance with the License.\n",
              "// You may obtain a copy of the License at\n",
              "//\n",
              "//      http://www.apache.org/licenses/LICENSE-2.0\n",
              "//\n",
              "// Unless required by applicable law or agreed to in writing, software\n",
              "// distributed under the License is distributed on an \"AS IS\" BASIS,\n",
              "// WITHOUT WARRANTIES OR CONDITIONS OF ANY KIND, either express or implied.\n",
              "// See the License for the specific language governing permissions and\n",
              "// limitations under the License.\n",
              "\n",
              "/**\n",
              " * @fileoverview Helpers for google.colab Python module.\n",
              " */\n",
              "(function(scope) {\n",
              "function span(text, styleAttributes = {}) {\n",
              "  const element = document.createElement('span');\n",
              "  element.textContent = text;\n",
              "  for (const key of Object.keys(styleAttributes)) {\n",
              "    element.style[key] = styleAttributes[key];\n",
              "  }\n",
              "  return element;\n",
              "}\n",
              "\n",
              "// Max number of bytes which will be uploaded at a time.\n",
              "const MAX_PAYLOAD_SIZE = 100 * 1024;\n",
              "\n",
              "function _uploadFiles(inputId, outputId) {\n",
              "  const steps = uploadFilesStep(inputId, outputId);\n",
              "  const outputElement = document.getElementById(outputId);\n",
              "  // Cache steps on the outputElement to make it available for the next call\n",
              "  // to uploadFilesContinue from Python.\n",
              "  outputElement.steps = steps;\n",
              "\n",
              "  return _uploadFilesContinue(outputId);\n",
              "}\n",
              "\n",
              "// This is roughly an async generator (not supported in the browser yet),\n",
              "// where there are multiple asynchronous steps and the Python side is going\n",
              "// to poll for completion of each step.\n",
              "// This uses a Promise to block the python side on completion of each step,\n",
              "// then passes the result of the previous step as the input to the next step.\n",
              "function _uploadFilesContinue(outputId) {\n",
              "  const outputElement = document.getElementById(outputId);\n",
              "  const steps = outputElement.steps;\n",
              "\n",
              "  const next = steps.next(outputElement.lastPromiseValue);\n",
              "  return Promise.resolve(next.value.promise).then((value) => {\n",
              "    // Cache the last promise value to make it available to the next\n",
              "    // step of the generator.\n",
              "    outputElement.lastPromiseValue = value;\n",
              "    return next.value.response;\n",
              "  });\n",
              "}\n",
              "\n",
              "/**\n",
              " * Generator function which is called between each async step of the upload\n",
              " * process.\n",
              " * @param {string} inputId Element ID of the input file picker element.\n",
              " * @param {string} outputId Element ID of the output display.\n",
              " * @return {!Iterable<!Object>} Iterable of next steps.\n",
              " */\n",
              "function* uploadFilesStep(inputId, outputId) {\n",
              "  const inputElement = document.getElementById(inputId);\n",
              "  inputElement.disabled = false;\n",
              "\n",
              "  const outputElement = document.getElementById(outputId);\n",
              "  outputElement.innerHTML = '';\n",
              "\n",
              "  const pickedPromise = new Promise((resolve) => {\n",
              "    inputElement.addEventListener('change', (e) => {\n",
              "      resolve(e.target.files);\n",
              "    });\n",
              "  });\n",
              "\n",
              "  const cancel = document.createElement('button');\n",
              "  inputElement.parentElement.appendChild(cancel);\n",
              "  cancel.textContent = 'Cancel upload';\n",
              "  const cancelPromise = new Promise((resolve) => {\n",
              "    cancel.onclick = () => {\n",
              "      resolve(null);\n",
              "    };\n",
              "  });\n",
              "\n",
              "  // Wait for the user to pick the files.\n",
              "  const files = yield {\n",
              "    promise: Promise.race([pickedPromise, cancelPromise]),\n",
              "    response: {\n",
              "      action: 'starting',\n",
              "    }\n",
              "  };\n",
              "\n",
              "  cancel.remove();\n",
              "\n",
              "  // Disable the input element since further picks are not allowed.\n",
              "  inputElement.disabled = true;\n",
              "\n",
              "  if (!files) {\n",
              "    return {\n",
              "      response: {\n",
              "        action: 'complete',\n",
              "      }\n",
              "    };\n",
              "  }\n",
              "\n",
              "  for (const file of files) {\n",
              "    const li = document.createElement('li');\n",
              "    li.append(span(file.name, {fontWeight: 'bold'}));\n",
              "    li.append(span(\n",
              "        `(${file.type || 'n/a'}) - ${file.size} bytes, ` +\n",
              "        `last modified: ${\n",
              "            file.lastModifiedDate ? file.lastModifiedDate.toLocaleDateString() :\n",
              "                                    'n/a'} - `));\n",
              "    const percent = span('0% done');\n",
              "    li.appendChild(percent);\n",
              "\n",
              "    outputElement.appendChild(li);\n",
              "\n",
              "    const fileDataPromise = new Promise((resolve) => {\n",
              "      const reader = new FileReader();\n",
              "      reader.onload = (e) => {\n",
              "        resolve(e.target.result);\n",
              "      };\n",
              "      reader.readAsArrayBuffer(file);\n",
              "    });\n",
              "    // Wait for the data to be ready.\n",
              "    let fileData = yield {\n",
              "      promise: fileDataPromise,\n",
              "      response: {\n",
              "        action: 'continue',\n",
              "      }\n",
              "    };\n",
              "\n",
              "    // Use a chunked sending to avoid message size limits. See b/62115660.\n",
              "    let position = 0;\n",
              "    do {\n",
              "      const length = Math.min(fileData.byteLength - position, MAX_PAYLOAD_SIZE);\n",
              "      const chunk = new Uint8Array(fileData, position, length);\n",
              "      position += length;\n",
              "\n",
              "      const base64 = btoa(String.fromCharCode.apply(null, chunk));\n",
              "      yield {\n",
              "        response: {\n",
              "          action: 'append',\n",
              "          file: file.name,\n",
              "          data: base64,\n",
              "        },\n",
              "      };\n",
              "\n",
              "      let percentDone = fileData.byteLength === 0 ?\n",
              "          100 :\n",
              "          Math.round((position / fileData.byteLength) * 100);\n",
              "      percent.textContent = `${percentDone}% done`;\n",
              "\n",
              "    } while (position < fileData.byteLength);\n",
              "  }\n",
              "\n",
              "  // All done.\n",
              "  yield {\n",
              "    response: {\n",
              "      action: 'complete',\n",
              "    }\n",
              "  };\n",
              "}\n",
              "\n",
              "scope.google = scope.google || {};\n",
              "scope.google.colab = scope.google.colab || {};\n",
              "scope.google.colab._files = {\n",
              "  _uploadFiles,\n",
              "  _uploadFilesContinue,\n",
              "};\n",
              "})(self);\n",
              "</script> "
            ]
          },
          "metadata": {}
        },
        {
          "output_type": "stream",
          "name": "stdout",
          "text": [
            "Saving AN4126521_Quiz4_Data.xlsx to AN4126521_Quiz4_Data (1).xlsx\n"
          ]
        }
      ],
      "source": [
        "from google.colab import files\n",
        "import io\n",
        "import pandas as pd\n",
        "import os\n",
        "\n",
        "# Upload a Excel files\n",
        "uploaded = files.upload()\n"
      ]
    },
    {
      "cell_type": "code",
      "execution_count": 15,
      "metadata": {
        "colab": {
          "base_uri": "https://localhost:8080/"
        },
        "outputId": "864761d6-e9f7-4df4-dbb2-a59931aa7ef2",
        "id": "vADtewipmeVG"
      },
      "outputs": [
        {
          "output_type": "stream",
          "name": "stdout",
          "text": [
            "data len: 20\n",
            "all score:\n",
            "0     100\n",
            "1     100\n",
            "2     100\n",
            "3     100\n",
            "4     100\n",
            "5     100\n",
            "6     100\n",
            "7     100\n",
            "8     100\n",
            "9     100\n",
            "10     50\n",
            "11     50\n",
            "12     50\n",
            "13     50\n",
            "14     50\n",
            "15     50\n",
            "16     50\n",
            "17     50\n",
            "18     50\n",
            "19     50\n",
            "Name: score, dtype: int64\n",
            "All Score Averge: 75.0\n"
          ]
        }
      ],
      "source": [
        "# Read the file\n",
        "for filename in uploaded.keys():\n",
        "  if filename.endswith(\".xlsx\"):\n",
        "    df = pd.read_excel(io.BytesIO(uploaded[filename]))\n",
        "    selected_score = df['score']\n",
        "    print(f\"data len: {len(df)}\")\n",
        "    print(f\"all score:\\n{selected_score}\")\n",
        "    print(f\"All Score Averge: {sum(selected_score)/len(df)}\")\n"
      ]
    },
    {
      "cell_type": "markdown",
      "source": [
        "# 第二題，寫出csv檔案（回家作業才完成的部分）\n",
        "\n",
        "請寫出一個程式，將上次Quiz3第二題所做的數字的變化，在每一行中，一個一個地紀錄下來，直到出現跟前面曾經出現的數字重複為止。就是每一行開頭都有一個數字，逗號之後就是那個數字，各位數字平方和，直到出現跟前面曾經出現的數字重複為止。然後將這些結果輸出成一個csv檔案。也就是說這個csv的內容大概會像這樣(注意，下面的1跟2跟3之間是沒有空行的)\n",
        "\n",
        "1,1\n",
        "\n",
        "2,4,16,37,...,4\n",
        "\n",
        "3,9,81,65,61,...,1,1\n",
        "..."
      ],
      "metadata": {
        "id": "HT2PzR8k01Ig"
      }
    },
    {
      "cell_type": "code",
      "source": [
        "import csv\n",
        "\n",
        "\n",
        "class An:\n",
        "  def __init__(self, value: str):\n",
        "    self.value = value\n",
        "    self.record = []\n",
        "    self.is_exist = False\n",
        "\n",
        "  def next(self):\n",
        "    temp = 0\n",
        "    for i in self.value:\n",
        "      temp += int(i)**2\n",
        "\n",
        "    self.value = str(temp)\n",
        "    if (self.value in self.record):\n",
        "      self.is_exist = True\n",
        "    self.record.append(self.value)\n",
        "    return self.value\n",
        "\n",
        "an = An(input(\"請輸入一個數字：\"))\n",
        "\n",
        "while not an.is_exist:\n",
        "  next_value = an.next()\n",
        "  print(next_value)\n",
        "\n",
        "\n",
        "with open('AN4126521_Quiz4.csv', 'w', newline='') as csvfile:\n",
        "    csv_writer = csv.writer(csvfile)\n",
        "    csv_writer.writerow(an.record)\n",
        "\n",
        "\n",
        "files.download('AN4126521_Quiz4.csv')\n",
        "print(\"已将键保存为 'AN4126521_Quiz4.csv' 文件。\")\n"
      ],
      "metadata": {
        "colab": {
          "base_uri": "https://localhost:8080/",
          "height": 0
        },
        "id": "thV5eN5dpJNl",
        "outputId": "eed01bb9-697d-49ac-dccf-50152dd39f37"
      },
      "execution_count": 14,
      "outputs": [
        {
          "output_type": "stream",
          "name": "stdout",
          "text": [
            "請輸入一個數字：8\n",
            "64\n",
            "52\n",
            "29\n",
            "85\n",
            "89\n",
            "145\n",
            "42\n",
            "20\n",
            "4\n",
            "16\n",
            "37\n",
            "58\n",
            "89\n"
          ]
        },
        {
          "output_type": "display_data",
          "data": {
            "text/plain": [
              "<IPython.core.display.Javascript object>"
            ],
            "application/javascript": [
              "\n",
              "    async function download(id, filename, size) {\n",
              "      if (!google.colab.kernel.accessAllowed) {\n",
              "        return;\n",
              "      }\n",
              "      const div = document.createElement('div');\n",
              "      const label = document.createElement('label');\n",
              "      label.textContent = `Downloading \"${filename}\": `;\n",
              "      div.appendChild(label);\n",
              "      const progress = document.createElement('progress');\n",
              "      progress.max = size;\n",
              "      div.appendChild(progress);\n",
              "      document.body.appendChild(div);\n",
              "\n",
              "      const buffers = [];\n",
              "      let downloaded = 0;\n",
              "\n",
              "      const channel = await google.colab.kernel.comms.open(id);\n",
              "      // Send a message to notify the kernel that we're ready.\n",
              "      channel.send({})\n",
              "\n",
              "      for await (const message of channel.messages) {\n",
              "        // Send a message to notify the kernel that we're ready.\n",
              "        channel.send({})\n",
              "        if (message.buffers) {\n",
              "          for (const buffer of message.buffers) {\n",
              "            buffers.push(buffer);\n",
              "            downloaded += buffer.byteLength;\n",
              "            progress.value = downloaded;\n",
              "          }\n",
              "        }\n",
              "      }\n",
              "      const blob = new Blob(buffers, {type: 'application/binary'});\n",
              "      const a = document.createElement('a');\n",
              "      a.href = window.URL.createObjectURL(blob);\n",
              "      a.download = filename;\n",
              "      div.appendChild(a);\n",
              "      a.click();\n",
              "      div.remove();\n",
              "    }\n",
              "  "
            ]
          },
          "metadata": {}
        },
        {
          "output_type": "display_data",
          "data": {
            "text/plain": [
              "<IPython.core.display.Javascript object>"
            ],
            "application/javascript": [
              "download(\"download_fd3e7d3a-1eb5-4ac3-9a61-97f6196b9564\", \"AN4126521_Quiz4.csv\", 40)"
            ]
          },
          "metadata": {}
        },
        {
          "output_type": "stream",
          "name": "stdout",
          "text": [
            "已将键保存为 'AN4126521_Quiz4.csv' 文件。\n"
          ]
        }
      ]
    },
    {
      "cell_type": "markdown",
      "source": [
        "# 第三、四題：在程式中發現錯誤，並改寫錯誤訊息（回家作業才完成的部分）\n",
        "\n",
        "寫一個程式，首先先把自己學號的後兩碼，加一個小數點寫成一個小數a。舉例來說，後兩碼是45，a=4.5。但是學號中如果有0，就改成1。如果後兩碼是01、10、或00，a都是1.1。這個程式要計算a的**學號倒數第四碼跟倒數第三碼形成的整數**到**10000**次方中，每個次方的首位數字是多少，把它紀錄下來。統計一下出現的那些數字中，1出現了比例是多少？\n",
        "\n",
        "\n",
        "第四題：\n",
        "但是這個程式好像都會出現錯誤，請問這個錯誤是什麼？試著在會發生錯誤程式的前後放入try跟except，確定你有抓到這個錯誤，然後將錯誤訊息翻譯成中文。並且告訴我是哪一個次方出現錯誤？出現錯誤之後，請修正你的程式不要繼續統計了。這樣這個程式應該可以執行。也就是說，最後你交上來的程式應該是可以跑的。\n"
      ],
      "metadata": {
        "id": "mYBywUed1KAj"
      }
    },
    {
      "cell_type": "code",
      "source": [
        "my_id = 4126521\n",
        "a = \"{:.1f}\".format(my_id * 0.1)\n",
        "print(f\"我的學號是 AN4126521，數字最後一位加一個小數點為 {a}\")\n",
        "\n",
        "no_3 = int(list(a)[-4])\n",
        "no_4 = int(list(a)[-5])\n",
        "cound_dict = {\n",
        "    \"no_3\": []\n",
        "    , \"no_4\": []\n",
        "    }\n",
        "\n",
        "for i in range(1, 10000+1):\n",
        "  try:\n",
        "    no_3_power = list(str(no_3**i))[0]\n",
        "    no_4_power = list(str(no_4**i))[0]\n",
        "  except Exception as e:\n",
        "    print(f\"{i} 次方時，出現了超出數字轉字串最大上限值錯誤： {e}\")\n",
        "    print(f\"倒數第三碼 {no_3} 的 {i-1} 次方中，1 出現的比例是：{cound_dict['no_3'].count('1')}/{len(cound_dict['no_3'])}\")\n",
        "    print(f\"倒數第四碼 {no_4} 的 {i-1} 次方中，1 出現的比例是：{cound_dict['no_4'].count('1')}/{len(cound_dict['no_4'])}\")\n",
        "    break\n",
        "\n",
        "  cound_dict[\"no_3\"].append(no_3_power)\n",
        "  cound_dict[\"no_4\"].append(no_4_power)\n",
        "\n",
        "\n",
        "# print(cound_dict)\n"
      ],
      "metadata": {
        "id": "0bYUI0Dh2DxX",
        "colab": {
          "base_uri": "https://localhost:8080/"
        },
        "outputId": "917e678e-6771-4444-a1ed-f927628cb577"
      },
      "execution_count": 53,
      "outputs": [
        {
          "output_type": "stream",
          "name": "stdout",
          "text": [
            "我的學號是 AN4126521，數字最後一位加一個小數點為 412652.1\n",
            "5526 次方時，出現了超出數字轉字串最大上限值錯誤： Exceeds the limit (4300) for integer string conversion; use sys.set_int_max_str_digits() to increase the limit\n",
            "倒數第三碼 5 的 5525 次方中，1 出現的比例是：1663/5525\n",
            "倒數第四碼 6 的 5525 次方中，1 出現的比例是：1667/5525\n"
          ]
        }
      ]
    },
    {
      "cell_type": "markdown",
      "source": [
        "這次作業的 ChatGPt：https://chat.openai.com/share/f250ac41-87d3-4f9c-912b-e9faa3618197 （延續課堂作業的，所以課堂作業的 ChatGPT 連結，應該會失效）"
      ],
      "metadata": {
        "id": "EsuWIs6Lrxb3"
      }
    }
  ]
}
{
  "nbformat": 4,
  "nbformat_minor": 0,
  "metadata": {
    "colab": {
      "provenance": []
    },
    "kernelspec": {
      "name": "python3",
      "display_name": "Python 3"
    },
    "language_info": {
      "name": "python"
    }
  },
  "cells": [
    {
      "cell_type": "markdown",
      "source": [
        "# 進階測驗\n",
        "\n",
        "時間: 11:10-12:00；11:00-11:10為題目解講時間。如果在解講時間仍要做答而沒有聽清楚題目要做什麼，請自行負責。\n",
        "\n",
        "方式: 一定要到教室進行小考，且有安排座位。請確定你的位置與你的學號相符。\n",
        "\n",
        "不能與同學交談，不能傳訊息給同學，不能在寢室考試。它就是一次實體考試。只是線上的考試卷很方便，不用發下去。也幫你們做好了答題的位置。而且提前了10分鐘給說明。如果有問題就舉手問助教，問老師。但ChatGPT的答案不一定對，老師的題目也不見得是完備的。(因為如果題目很完整，說明的非常詳細，那麼直接給ChatGPT就有答案了，大家就複製貼上加註解就好了。老師也希望大家練習把不完備的說法給補齊。)\n",
        "\n",
        "說明: 首先這個檔案是僅供檢視的，所以你必須在自己的雲端硬碟中另存副本，再開始進行你自己的回答。回答過程中可以使用ChatGPT, 最後需要附上ChatGPT的使用連結。(在ChatGPT右上角的Share Chat，把連結複製下來貼在最下面。為什麼要最下面呢？因為這個Share Chat必須是在你完成了所有問題的詢問之後再給出來，才會有完整的問答)\n",
        "\n",
        "每一題有不同的分數，而每一題當中，程式碼都要有註解。請以文字框，把你的想法寫出來。評分將包含程式能否正確完成，有無註解，以及該回答的文字框中答案的完整性。\n",
        "\n",
        "最後請將這個檔案下載成『你的學號_Quiz6.ipynb』檔案，並上傳到moodle繳交完成測驗。\n",
        "\n",
        "以下這個文字框是要填寫的："
      ],
      "metadata": {
        "id": "skxGBDEoz1_Z"
      }
    },
    {
      "cell_type": "markdown",
      "source": [
        "** 學號: AN4126521**\n",
        "\n",
        "** 姓名: 江婕瀅**\n",
        "\n",
        "** 系級: 116**"
      ],
      "metadata": {
        "id": "WFNItuXM0qHs"
      }
    },
    {
      "cell_type": "markdown",
      "source": [
        "# 第一題，成大快訊\n",
        "\n",
        "請自行到成大首頁，抓取每一個成大快訊(應該有八個)的文字內容\n",
        "\n"
      ],
      "metadata": {
        "id": "p9Qx1IEz0rtf"
      }
    },
    {
      "cell_type": "code",
      "execution_count": 38,
      "metadata": {
        "id": "z5C9GBOIzyu8",
        "colab": {
          "base_uri": "https://localhost:8080/"
        },
        "outputId": "be31ae43-d388-4725-ff36-76f46531c185"
      },
      "outputs": [
        {
          "output_type": "stream",
          "name": "stdout",
          "text": [
            "第 1 個成大快訊是：成大洪飛義團隊研發具全球創新性的血管支架新材質 PLAM\n",
            "第 2 個成大快訊是：成大公衛大樓及震波實驗室修建及增建工程　公共藝術作品《光徑》正式落成\n",
            "第 3 個成大快訊是：成大全球校友總會理事長　佳世達集團董事長陳其宏　獲頒第 12 屆工研院院士\n",
            "第 4 個成大快訊是：2023國防應用無人機挑戰賽　全國六強隊伍爭鋒\n",
            "第 5 個成大快訊是：全球大數據領域權威麥爾荀伯格教授成大演講　大數據概念讓決策有所依據\n",
            "第 6 個成大快訊是：企業需才孔亟！2023 成大秋季校園徵才熱烈報名中\n",
            "第 7 個成大快訊是：【112 年度吳大猷先生紀念獎】護理系臨床助理教授陳嬿今　竹子般刻苦扎根　綻放成果　\n",
            "第 8 個成大快訊是：【92 校慶】成大圖書館校慶書展關注人權議題　系列活動廣邀各界共襄盛舉\n"
          ]
        }
      ],
      "source": [
        "import requests\n",
        "from bs4 import BeautifulSoup\n",
        "\n",
        "url = 'https://www.ncku.edu.tw/'\n",
        "\n",
        "response = requests.get(url)\n",
        "\n",
        "if response.status_code == 200:\n",
        "    soup = BeautifulSoup(response.text, 'html.parser')\n",
        "    item_elements = soup.find_all('div', class_='d-item v-it col-sm-3')[4:12]\n",
        "    title_elements = [element.find('div', class_='mtitle') for element in item_elements]\n",
        "    href_elements = [element.find('a') for element in title_elements]\n",
        "\n",
        "    n = 0\n",
        "    for elements in href_elements:\n",
        "      title = elements.get('title')\n",
        "      if title:\n",
        "        n += 1\n",
        "        print(f\"第 {n} 個成大快訊是：{title}\")\n",
        "else:\n",
        "    print('無法獲取網頁內容')"
      ]
    },
    {
      "cell_type": "markdown",
      "source": [
        "# 第二題，成大全校活動資訊系統\n",
        "\n",
        "請列出全校活動資訊系統中一週內(2023/10/24-2023/10/31)的活動, 區間舉辦的活動不要ㄟ"
      ],
      "metadata": {
        "id": "HT2PzR8k01Ig"
      }
    },
    {
      "cell_type": "code",
      "source": [
        "import requests\n",
        "from bs4 import BeautifulSoup\n",
        "\n",
        "url = 'https://activity.ncku.edu.tw/'\n",
        "\n",
        "response = requests.get(url)\n",
        "\n",
        "if response.status_code == 200:\n",
        "  soup = BeautifulSoup(response.text, 'html.parser')\n",
        "  act_elements = soup.find('div', id='act_info')\n",
        "  # tr_elements = act_elements.find_all('tr')\n",
        "\n",
        "  # for tr in tr_elements:\n",
        "  #   td_elements = tr.find_all('td', class_='picmod')\n",
        "  #   if len(td_elements) >= 2:\n",
        "  #     hr_element = td_elements[1].find_next_sibling('hr')\n",
        "  #     if hr_element:\n",
        "  #       time_range = hr_element.get('title')\n",
        "  #       if time_range == '2023/10/24-2023/10/31':\n",
        "  #           span_element = td_elements[1].find('span')\n",
        "  #           if span_element:\n",
        "  #               print(span_element.text)\n",
        "  print(\"來不及\")\n",
        "else:\n",
        "    print('無法獲取網頁內容')"
      ],
      "metadata": {
        "id": "4iDyWTynuKnG",
        "colab": {
          "base_uri": "https://localhost:8080/"
        },
        "outputId": "c13d4981-43a2-4cd6-f8c8-63cb2361bf93"
      },
      "execution_count": 61,
      "outputs": [
        {
          "output_type": "stream",
          "name": "stdout",
          "text": [
            "來不及\n"
          ]
        }
      ]
    },
    {
      "cell_type": "markdown",
      "source": [
        "# 第三題：自行找到一個網頁，從上面擷取你想要的資訊。"
      ],
      "metadata": {
        "id": "lUnPS_2FuJPp"
      }
    },
    {
      "cell_type": "markdown",
      "source": [
        "這是我 2021 年爬 YT 發燒影片的程式碼連結：https://github.com/Jesse-Jumbo/crawling_yt_trending_vidoes\n",
        "\n",
        "以及後來串 API 爬：https://github.com/Jesse-Jumbo/YT_data_API"
      ],
      "metadata": {
        "id": "IKvQnQCV3cib"
      }
    },
    {
      "cell_type": "markdown",
      "source": [
        "要回答: 你為什麼要擷取這個資訊？(不能回答要考試喔)\n",
        "\n",
        "因為 YT 好看"
      ],
      "metadata": {
        "id": "gmR4HRfvzUai"
      }
    },
    {
      "cell_type": "markdown",
      "source": [
        "有使用ChatGPT嗎: 無\n",
        "\n",
        "**有**使用的話，對話連結是:"
      ],
      "metadata": {
        "id": "zSW59yP42Y1s"
      }
    }
  ]
}
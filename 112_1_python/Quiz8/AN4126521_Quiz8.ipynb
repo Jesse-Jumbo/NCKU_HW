{
  "nbformat": 4,
  "nbformat_minor": 0,
  "metadata": {
    "colab": {
      "provenance": []
    },
    "kernelspec": {
      "name": "python3",
      "display_name": "Python 3"
    },
    "language_info": {
      "name": "python"
    }
  },
  "cells": [
    {
      "cell_type": "markdown",
      "source": [
        "# 進階測驗\n",
        "\n",
        "時間: 11:10-12:00；11:00-11:10為題目解講時間。如果在解講時間仍要做答而沒有聽清楚題目要做什麼，請自行負責。\n",
        "\n",
        "方式: 一定要到教室進行小考，且有安排座位。請確定你的位置與你的學號相符。\n",
        "\n",
        "不能與同學交談，不能傳訊息給同學，不能在寢室考試。它就是一次實體考試。只是線上的考試卷很方便，不用發下去。也幫你們做好了答題的位置。而且提前了10分鐘給說明。如果有問題就舉手問助教，問老師。但ChatGPT的答案不一定對，老師的題目也不見得是完備的。(因為如果題目很完整，說明的非常詳細，那麼直接給ChatGPT就有答案了，大家就複製貼上加註解就好了。老師也希望大家練習把不完備的說法給補齊。)\n",
        "\n",
        "說明: 首先這個檔案是僅供檢視的，所以你必須在自己的雲端硬碟中另存副本，再開始進行你自己的回答。回答過程中可以使用ChatGPT, 最後需要附上ChatGPT的使用連結。(在ChatGPT右上角的Share Chat，把連結複製下來貼在最下面。為什麼要最下面呢？因為這個Share Chat必須是在你完成了所有問題的詢問之後再給出來，才會有完整的問答)\n",
        "\n",
        "每一題有不同的分數，而每一題當中，程式碼都要有註解。請以文字框，把你的想法寫出來。評分將包含程式能否正確完成，有無註解，以及該回答的文字框中答案的完整性。\n",
        "\n",
        "最後請將這個檔案下載成『你的學號_Quiz8.ipynb』檔案，並上傳到moodle繳交完成測驗。\n",
        "\n",
        "以下這個文字框是要填寫的："
      ],
      "metadata": {
        "id": "skxGBDEoz1_Z"
      }
    },
    {
      "cell_type": "markdown",
      "source": [
        "**學號:AN4126521**\n",
        "\n",
        "**姓名:江婕瀅**\n",
        "\n",
        "**系級:116**\n",
        "\n",
        "**組別:B1**"
      ],
      "metadata": {
        "id": "WFNItuXM0qHs"
      }
    },
    {
      "cell_type": "markdown",
      "source": [
        "# 就一題：請以今日所教的遊戲為基礎，自行修改一個不同於上課所教的版本。\n",
        "\n",
        "你可以加入新的功能，也可以改遊戲規則，改變大小，改變人數…\n",
        "如果你覺得今天的三個遊戲太無聊，你也可以自己想辦法寫一個新的遊戲。\n",
        "請在下面介紹你的遊戲，並給出遊戲的程式碼，還要**加上自己試玩的結果**。\n",
        "\n",
        "同組的組員，可以使用同一個版本的遊戲來改。但**不能跟同組其他同學的一模一樣**，需要自己做出一些改變，如註解、新功能、遊戲方法等等。"
      ],
      "metadata": {
        "id": "HT2PzR8k01Ig"
      }
    },
    {
      "cell_type": "markdown",
      "source": [
        "### **介紹你的遊戲:**\n",
        "我把之前用 C++ 寫的河內塔遊戲，改成 Python 版本\n",
        "首先輸入輸字 3~5，決定有幾個盤子，程式會自動運算出最佳解法，接著輪到使用者輸入自己的解法，輸入一串數字，用空白隔開，每三個為一組，分別對應[盤子 ID][從第幾個柱子][到第幾個柱子]，舉例：\n",
        "\n",
        "[output] Enter the number of disks: [input]3\n",
        "\n",
        "[output]Plate 1 move from tower 1 to tower 3\n",
        "\n",
        "[output]Plate 2 move from tower 1 to tower 2\n",
        "\n",
        "[output]Plate 1 move from tower 3 to tower 2\n",
        "\n",
        "[output]Plate 3 move from tower 1 to tower 3\n",
        "\n",
        "[output]Plate 1 move from tower 2 to tower 1\n",
        "\n",
        "[output]Plate 2 move from tower 2 to tower 3\n",
        "\n",
        "[output]Plate 1 move from tower 1 to tower 3\n",
        "\n",
        "[output]Enter the number of steps: [input]1 1 3 2 1 2 1 3 2 3 1 3 1 2 1 2 2 3 1 1 3\n",
        "\n",
        "[output]Plate 1 move from tower 1 to tower 3\n",
        "\n",
        "[output]Plate 2 move from tower 1 to tower 2\n",
        "\n",
        "[output]Plate 1 move from tower 3 to tower 2\n",
        "\n",
        "[output]Plate 3 move from tower 1 to tower 3\n",
        "\n",
        "[output]Plate 1 move from tower 2 to tower 1\n",
        "\n",
        "[output]Plate 2 move from tower 2 to tower 3\n",
        "\n",
        "[output]Plate 1 move from tower 1 to tower 3\n",
        "\n",
        "[output]Total moves: 7\n",
        "\n",
        "[output]\n",
        "\n",
        "[output]WIN!\n",
        "\n",
        "如果輸入有錯，則輸出「錯誤輸入 請重新輸入」，然後回到「Enter the number of steps: 」步驟\n",
        "\n",
        "### **你的遊戲與眾不同的地方:**\n",
        "\n",
        "將經典的河內塔考題遊戲化！\n",
        "\n",
        "### **請把你遊戲的程式碼放在下面**"
      ],
      "metadata": {
        "id": "yOgYROYZk3XE"
      }
    },
    {
      "cell_type": "code",
      "execution_count": 13,
      "metadata": {
        "id": "z5C9GBOIzyu8",
        "colab": {
          "base_uri": "https://localhost:8080/"
        },
        "outputId": "612e2352-6e92-475b-c560-0109d5fc50d3"
      },
      "outputs": [
        {
          "output_type": "stream",
          "name": "stdout",
          "text": [
            "Enter the number of disks: 3\n",
            "Plate 1 move from tower 1 to tower 3\n",
            "Plate 2 move from tower 1 to tower 2\n",
            "Plate 1 move from tower 3 to tower 2\n",
            "Plate 3 move from tower 1 to tower 3\n",
            "Plate 1 move from tower 2 to tower 1\n",
            "Plate 2 move from tower 2 to tower 3\n",
            "Plate 1 move from tower 1 to tower 3\n",
            "Enter the number of steps: 1 1 3 2 1 2 1 3 2 3 1 3 1 2 1 2 2 3 1 1 2\n",
            "Plate 1 move from tower 1 to tower 3\n",
            "Plate 2 move from tower 1 to tower 2\n",
            "Plate 1 move from tower 3 to tower 2\n",
            "Plate 3 move from tower 1 to tower 3\n",
            "Plate 1 move from tower 2 to tower 1\n",
            "Plate 2 move from tower 2 to tower 3\n",
            "Plate 1 move from tower 1 to tower 2\n",
            "錯誤輸入 請重新輸入\n",
            "Enter the number of steps: 1 1 3 2 1 2 1 3 2 3 1 3 1 2 1 2 2 3 1 1 3\n",
            "Plate 1 move from tower 1 to tower 3\n",
            "Plate 2 move from tower 1 to tower 2\n",
            "Plate 1 move from tower 3 to tower 2\n",
            "Plate 3 move from tower 1 to tower 3\n",
            "Plate 1 move from tower 2 to tower 1\n",
            "Plate 2 move from tower 2 to tower 3\n",
            "Plate 1 move from tower 1 to tower 3\n",
            "Total moves: 7\n",
            "\n",
            "WIN!\n"
          ]
        }
      ],
      "source": [
        "def hanoi(n, from_tower, to_tower, aux_tower, solution):\n",
        "    if n == 1:\n",
        "        print(f\"Plate 1 move from tower {from_tower} to tower {to_tower}\")\n",
        "        solution.extend([1, from_tower, to_tower])\n",
        "        return\n",
        "    hanoi(n - 1, from_tower, aux_tower, to_tower, solution)\n",
        "    print(f\"Plate {n} move from tower {from_tower} to tower {to_tower}\")\n",
        "    solution.extend([n, from_tower, to_tower])\n",
        "    hanoi(n - 1, aux_tower, to_tower, from_tower, solution)\n",
        "\n",
        "def is_valid_move(from_tower, to_tower, plate):\n",
        "    if not from_tower or from_tower[-1] != plate:\n",
        "        return False\n",
        "    if not to_tower or plate < to_tower[-1]:\n",
        "        return True\n",
        "    return False\n",
        "\n",
        "def play_hanoi():\n",
        "    n = int(input(\"Enter the number of disks: \"))\n",
        "    solution = []\n",
        "    hanoi(n, 1, 3, 2, solution)\n",
        "\n",
        "    towers = [[i for i in range(n, 0, -1)], [], []]\n",
        "\n",
        "    while True:\n",
        "        backup_towers = [list(tower) for tower in towers]\n",
        "        input_moves = input(\"Enter the number of steps: \")\n",
        "        moves = list(map(int, input_moves.split()))\n",
        "        steps = 0\n",
        "        error = False\n",
        "\n",
        "        for i in range(0, len(moves), 3):\n",
        "            plate, from_tower, to_tower = moves[i:i+3]\n",
        "            if from_tower < 1 or from_tower > 3 or to_tower < 1 or to_tower > 3 or from_tower == to_tower or not is_valid_move(towers[from_tower - 1], towers[to_tower - 1], plate):\n",
        "                error = True\n",
        "                break\n",
        "            print(f\"Plate {plate} move from tower {from_tower} to tower {to_tower}\")\n",
        "            towers[to_tower - 1].append(plate)\n",
        "            towers[from_tower - 1].pop()\n",
        "            steps += 1\n",
        "\n",
        "            if len(towers[2]) == n:\n",
        "                break\n",
        "\n",
        "        if error or len(towers[2]) != n:\n",
        "            print(\"錯誤輸入 請重新輸入\")\n",
        "            towers = backup_towers\n",
        "            continue\n",
        "\n",
        "        print(f\"Total moves: {steps}\\n\")\n",
        "        print(\"WIN!\")\n",
        "        break\n",
        "\n",
        "play_hanoi()\n"
      ]
    },
    {
      "cell_type": "markdown",
      "source": [
        "遊戲解答：（時間不夠，沒有做很多錯誤處理，請小心遊玩，感謝！）\n",
        "\n",
        "3 disks: 1 1 3 2 1 2 1 3 2 3 1 3 1 2 1 2 2 3 1 1 3\n",
        "\n",
        "4 disks: 1 1 2 2 1 3 1 2 3 3 1 2 1 3 1 2 3 2 1 1 2 4 1 3 1 2 3 2 2 1 1 3 1 3 2 3 1 1 2 2 1 3 1 2 3\n",
        "\n",
        "5 disks: 1 1 3 2 1 2 1 3 2 3 1 3 1 2 1 2 2 3 1 1 3 4 1 2 1 3 2 2 3 1 1 2 1 3 3 2 1 1 3 2 1 2 1 3 2 5 1 3 1 2 1 2 2 3 1 1 3 3 2 1 1 3 2 2 3 1 1 2 1 4 2 3 1 1 3 2 1 2 1 3 2 3 1 3 1 2 1 2 2 3 1 1 3\n",
        "\n"
      ],
      "metadata": {
        "id": "IurxH0rizJEA"
      }
    },
    {
      "cell_type": "markdown",
      "source": [
        "# **References:**\n",
        "\n",
        "* 有使用ChatGPT嗎: 有，對話連結是: https://chat.openai.com/share/cfe5f881-19b8-41f6-a2a0-57546de374e8\n",
        "* 有同組共同的遊戲版本嗎？ 無。"
      ],
      "metadata": {
        "id": "zSW59yP42Y1s"
      }
    }
  ]
}
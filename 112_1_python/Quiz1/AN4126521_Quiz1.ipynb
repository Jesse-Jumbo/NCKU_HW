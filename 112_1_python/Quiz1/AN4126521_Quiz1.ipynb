{
  "nbformat": 4,
  "nbformat_minor": 0,
  "metadata": {
    "colab": {
      "provenance": []
    },
    "kernelspec": {
      "name": "python3",
      "display_name": "Python 3"
    },
    "language_info": {
      "name": "python"
    }
  },
  "cells": [
    {
      "cell_type": "markdown",
      "source": [
        "# 基礎測驗\n",
        "\n",
        "說明: 首先這個檔案是僅供檢視的，所以你必須在自己的雲端硬碟中另存副本，再開始進行你自己的回答。回答過程中可以使用ChatGPT, 最後需要附上ChatGPT的使用連結。(在ChatGPT右上角的Share Chat，把連結複製下來貼在最下面。為什麼要最下面呢？因為這個Share Chat必須是在你完成了所有問題的詢問之後再給出來，才會有完整的問答)\n",
        "\n",
        "每一題有不同的分數，而每一題當中，程式碼都要有註解。請以文字框，把你的想法寫出來。評分將包含程式能否正確完成，有無註解，以及該回答的文字框中答案的完整性。\n",
        "\n",
        "最後請將這個檔案下載成『你的學號_Quiz1.ipynb』檔案，並上傳到moodle繳交完成測驗。\n",
        "\n",
        "以下這個文字框是要填寫的："
      ],
      "metadata": {
        "id": "skxGBDEoz1_Z"
      }
    },
    {
      "cell_type": "markdown",
      "source": [
        "** 學號: **\n",
        "\n",
        "** 姓名: **\n",
        "\n",
        "** 系級: **"
      ],
      "metadata": {
        "id": "WFNItuXM0qHs"
      }
    },
    {
      "cell_type": "markdown",
      "source": [
        "# 第一題，成大學號的秘密：\n",
        "1. 請用一個字串的變數ID，把你的學號放進去這個ID。\n",
        "2. 請將這個變數的第2個數字乘以8，第3個數字乘以7，第4個數字乘以6，依此類推。\n",
        "(若第二個數字是英文則不用乘以8，從第3個數字開始乘即可)，然後把它加起來\n",
        "3. 請問你的學號中的英文字部分該代表哪一個數字，才能在它乘上9之後，與第2個步驟算出來的數字，相加起來是10的倍數？"
      ],
      "metadata": {
        "id": "p9Qx1IEz0rtf"
      }
    },
    {
      "cell_type": "code",
      "execution_count": 54,
      "metadata": {
        "id": "z5C9GBOIzyu8",
        "colab": {
          "base_uri": "https://localhost:8080/"
        },
        "outputId": "d5bfa261-474e-4bce-f5bf-55fe198d02bb"
      },
      "outputs": [
        {
          "output_type": "stream",
          "name": "stdout",
          "text": [
            "加總結果: 94\n",
            "在 ID：\"AN4126521\" 中將 AN = 7，使得乘以 9 加上 7 是 10 的倍數。\n"
          ]
        }
      ],
      "source": [
        "# 1\n",
        "id = \"AN4126521\"\n",
        "\n",
        "\n",
        "# 2\n",
        "def calculate_id(id):\n",
        "    num = 8\n",
        "    total = 0\n",
        "    skip_next = True  # 用來檢查是否要跳過下一個數字\n",
        "    for char in id:\n",
        "        if char.isdigit():\n",
        "            if skip_next:\n",
        "                skip_next = False\n",
        "                continue\n",
        "            digit = int(char)\n",
        "            total += digit * num\n",
        "            num -= 1\n",
        "    return total\n",
        "\n",
        "result = calculate_id(id)\n",
        "print(\"加總結果:\", result)\n",
        "\n",
        "\n",
        "# 3\n",
        "def find_number_to_make_sum_multiple_of_10(id, num):\n",
        "    # 去掉字串中的數字\n",
        "    non_digit_chars = ''.join([char for char in id if not char.isdigit()])\n",
        "\n",
        "    # 計算剩餘字串中的英文字部分，所代表的數字，使其乘上 9 後與參數 num 相加為 10 的倍數\n",
        "    for i in range(10):\n",
        "        if (i * 9 + num) % 10 == 0:\n",
        "            return f\"{non_digit_chars} = {i}\"\n",
        "\n",
        "    return None  # 找不到符合條件的數字\n",
        "\n",
        "num = 7\n",
        "result = find_number_to_make_sum_multiple_of_10(id, num)\n",
        "if result:\n",
        "    print(f'在 ID：\"{id}\" 中將 {result}，使得乘以 9 加上 {num} 是 10 的倍數。')\n",
        "else:\n",
        "    print(f'在 ID：\"{id}\" 中找不到符合條件的數字。')\n",
        "\n"
      ]
    },
    {
      "cell_type": "markdown",
      "source": [
        "ChatGPT：https://chat.openai.com/share/a18cc147-fbaf-4bfa-828a-9269ff10073e"
      ],
      "metadata": {
        "id": "gxpKMugdc_ZW"
      }
    },
    {
      "cell_type": "markdown",
      "source": [
        "# 第二題，set與list之間的關係\n",
        "1. 請自己將今天所學到與課程內容相關之關鍵字，放入一個集合(set)中。(這樣老師就知道你今天學到多少了 XD)\n",
        "2. 將該集合轉換為list\n",
        "3. 請問轉換成list之後，list中的關鍵字的順序與你在集合寫的順序的有什麼關連？請就你所觀察到的部分寫出你的推測。"
      ],
      "metadata": {
        "id": "HT2PzR8k01Ig"
      }
    },
    {
      "cell_type": "code",
      "source": [
        "key_words_set = {1, \"isdigit()\", 3, \"isdigit()\", 2, \"isdigit()\"}\n",
        "key_words_list = list(key_words_set)\n",
        "\n",
        "print(type(key_words_set), key_words_set, type(key_words_list), key_words_list)"
      ],
      "metadata": {
        "id": "0sSGoSCH09l2",
        "colab": {
          "base_uri": "https://localhost:8080/"
        },
        "outputId": "e8e534b0-309c-480b-fc11-e03816a88e2f"
      },
      "execution_count": null,
      "outputs": [
        {
          "output_type": "stream",
          "name": "stdout",
          "text": [
            "<class 'set'> {1, 2, 3, 'isdigit()'} <class 'list'> [1, 2, 3, 'isdigit()']\n"
          ]
        }
      ]
    },
    {
      "cell_type": "markdown",
      "source": [
        "這題沒有用 ChatGPT"
      ],
      "metadata": {
        "id": "uFVWhLdujVS9"
      }
    },
    {
      "cell_type": "markdown",
      "source": [
        "關於set中的元素順序，轉換到list中的順序，你的推測是？"
      ],
      "metadata": {
        "id": "rveUkznJ0-Ah"
      }
    },
    {
      "cell_type": "markdown",
      "source": [
        "set 是升序排序，然後會去除相同元素\n",
        "list 不會進行排序，順序按照進入 list 的順序\n",
        "\n",
        "（雖然程式碼好像看不出來）"
      ],
      "metadata": {
        "id": "BNNH2B4tiysd"
      }
    },
    {
      "cell_type": "markdown",
      "source": [
        "# 第三題：請以字典方式介紹自己\n",
        "1. 字典dict是一個需要關鍵字以及它對應的描述\n",
        "2. 請至少寫出你自己自我介紹的關鍵字，以及它對應的描述。並且把它放入一個名為introduction_yourself的字典dict中。"
      ],
      "metadata": {
        "id": "mYBywUed1KAj"
      }
    },
    {
      "cell_type": "code",
      "source": [
        "introduction_yourself = {\"name\": \"Jesse\"\n",
        "              , \"ID\": \"AN4126521\"\n",
        "              , \"Grade\": \"Freshman\"\n",
        "              , \"Department\": \"CCEP\"}\n",
        "\n",
        "print(introduction_yourself)"
      ],
      "metadata": {
        "id": "0bYUI0Dh2DxX",
        "colab": {
          "base_uri": "https://localhost:8080/"
        },
        "outputId": "3a91cceb-d459-45dc-fb2d-1711915a56ed"
      },
      "execution_count": 2,
      "outputs": [
        {
          "output_type": "stream",
          "name": "stdout",
          "text": [
            "{'name': 'Jesse', 'ID': 'AN4126521', 'Grade': 'Freshman', 'Department': 'CCEP'}\n"
          ]
        }
      ]
    },
    {
      "cell_type": "markdown",
      "source": [
        "沒有用 ChatGPT"
      ],
      "metadata": {
        "id": "qVAIqPg6krOL"
      }
    },
    {
      "cell_type": "markdown",
      "source": [
        "# 第四題：測試整數的極限\n",
        "1. 在python中，若是一個整數int，那麼它能夠表達的數字是有限的，請問那一個最大的數字是多少？\n",
        "2. 請寫一段程式，讓老師了解為什麼比這個數字大的整數是沒有辦法在python中使用的。\n",
        "3. 如果是你，你會採取什麼方式，讓比這個數字大的整數還是可以用？"
      ],
      "metadata": {
        "id": "IJ46ovzl2EP4"
      }
    },
    {
      "cell_type": "code",
      "source": [
        "import sys\n",
        "\n",
        "max_int = sys.maxsize\n",
        "print(\"第一題: 整數的最大值:\", max_int, \"\\n\")\n",
        "\n",
        "large_int = 100**10000  # 使用一個非常大的整數\n",
        "try:\n",
        "    result = large_int + 1\n",
        "    print(result)\n",
        "except ValueError as e:\n",
        "    print(\"第二題，過大的整數會超出整數轉換字串上限錯誤:\", e)"
      ],
      "metadata": {
        "id": "cwkX26HL2rfQ",
        "colab": {
          "base_uri": "https://localhost:8080/"
        },
        "outputId": "1d028b1f-ec7c-4556-eb9a-6713ff5c2840"
      },
      "execution_count": 58,
      "outputs": [
        {
          "output_type": "stream",
          "name": "stdout",
          "text": [
            "第一題: 整數的最大值: 9223372036854775807 \n",
            "\n",
            "第二題，過大的整數會超出整數轉換字串上限錯誤: Exceeds the limit (4300) for integer string conversion; use sys.set_int_max_str_digits() to increase the limit\n"
          ]
        }
      ]
    },
    {
      "cell_type": "markdown",
      "source": [
        "第二題，由於 Python 即使超出整數的最大值還是可以使用（下方附上 ChatGPT 的回答），因此無法測試 OverflowError，所以改成手動宣告一個超大整數，測試 ValueError\n",
        "\n",
        "ChatGPT：\n",
        "您的程式碼之所以不會進入 OverflowError 的判斷，是因為 sys.maxsize 在大多數情況下不會引發溢出錯誤。這是因為 sys.maxsize 表示的是平台上整數的最大可表示值，並不代表它就是 Python 整數的最大值。Python 整數（int）的大小是動態的，而不受固定的位元組限制。"
      ],
      "metadata": {
        "id": "l542i7N_I9z9"
      }
    },
    {
      "cell_type": "markdown",
      "source": [
        "如果是你，你會採取什麼方式，讓比這個數字大的整數還是可以用？"
      ],
      "metadata": {
        "id": "F-s_bj2p2sH4"
      }
    },
    {
      "cell_type": "code",
      "source": [
        "from decimal import Decimal\n",
        "\n",
        "\n",
        "# 創建一個大整數\n",
        "large_int = Decimal(\"9999999999999999999999999999999999999999\")\n",
        "\n",
        "# 做一些計算\n",
        "result = large_int * 2\n",
        "print(f\"第三題，換成科學記號表示: {result}\")"
      ],
      "metadata": {
        "colab": {
          "base_uri": "https://localhost:8080/"
        },
        "id": "ylK-2TqGFMFH",
        "outputId": "993e75bd-4f13-4df6-c5c9-f39be6c0789b"
      },
      "execution_count": 59,
      "outputs": [
        {
          "output_type": "stream",
          "name": "stdout",
          "text": [
            "第三題，換成科學記號表示: 2.000000000000000000000000000E+40\n"
          ]
        }
      ]
    },
    {
      "cell_type": "markdown",
      "source": [
        "ChatGPT：https://chat.openai.com/share/a18cc147-fbaf-4bfa-828a-9269ff10073e"
      ],
      "metadata": {
        "id": "kiiNMN0_MBwt"
      }
    }
  ]
}
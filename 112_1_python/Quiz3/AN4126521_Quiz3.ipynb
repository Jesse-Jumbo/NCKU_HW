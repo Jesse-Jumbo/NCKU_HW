{
  "nbformat": 4,
  "nbformat_minor": 0,
  "metadata": {
    "colab": {
      "provenance": []
    },
    "kernelspec": {
      "name": "python3",
      "display_name": "Python 3"
    },
    "language_info": {
      "name": "python"
    }
  },
  "cells": [
    {
      "cell_type": "markdown",
      "source": [
        "# 基礎測驗\n",
        "\n",
        "說明: 首先這個檔案是僅供檢視的，所以你必須在自己的雲端硬碟中另存副本，再開始進行你自己的回答。回答過程中可以使用ChatGPT, 最後需要附上ChatGPT的使用連結。(在ChatGPT右上角的Share Chat，把連結複製下來貼在最下面。為什麼要最下面呢？因為這個Share Chat必須是在你完成了所有問題的詢問之後再給出來，才會有完整的問答)\n",
        "\n",
        "每一題有不同的分數，而每一題當中，程式碼都要有註解。請以文字框，把你的想法寫出來。評分將包含程式能否正確完成，有無註解，以及該回答的文字框中答案的完整性。\n",
        "\n",
        "最後請將這個檔案下載成『你的學號_Quiz3.ipynb』檔案，並上傳到moodle繳交完成測驗。\n",
        "\n",
        "以下這個文字框是要填寫的："
      ],
      "metadata": {
        "id": "skxGBDEoz1_Z"
      }
    },
    {
      "cell_type": "markdown",
      "source": [
        "** 學號: AN4126521**\n",
        "\n",
        "** 姓名: 江婕瀅**\n",
        "\n",
        "** 系級: 不分 116**"
      ],
      "metadata": {
        "id": "WFNItuXM0qHs"
      }
    },
    {
      "cell_type": "markdown",
      "source": [
        "# 第一題，做一個學生的物件：\n",
        "請用Python做一個class，它可以在初始的時候放進去學生的學號、姓名、以及它的自我介紹"
      ],
      "metadata": {
        "id": "p9Qx1IEz0rtf"
      }
    },
    {
      "cell_type": "code",
      "execution_count": 5,
      "metadata": {
        "id": "z5C9GBOIzyu8",
        "colab": {
          "base_uri": "https://localhost:8080/"
        },
        "outputId": "72255a8b-0809-43e1-aac3-f2e32b9d7e3d"
      },
      "outputs": [
        {
          "output_type": "stream",
          "name": "stdout",
          "text": [
            "My name is Jesse, id is AN4126521, I love program.\n",
            "My name is Jessie, id is an4126521, I from CCEP.\n",
            "My name is Jessi, id is An4126521, My age is 21.\n"
          ]
        }
      ],
      "source": [
        "class Student:\n",
        "  def __init__(self, id: str, name: str, introduction: str):\n",
        "    print(f\"My name is {name}, id is {id}, {introduction}\")\n",
        "\n",
        "\n",
        "student_A = Student(\"AN4126521\", \"Jesse\", \"I love program.\")\n",
        "student_B = Student(\"an4126521\", \"Jessie\", \"I from CCEP.\")\n",
        "student_C = Student(\"An4126521\", \"Jessi\", \"My age is 21.\")\n"
      ]
    },
    {
      "cell_type": "markdown",
      "source": [
        "# 第二題，數字和的平方和\n",
        "1. 請寫出一個物件An，這個物件An中可以放一個value，有一個next方法可以產生它value的每一個數字平方的總和\n",
        "2. 請把An的next算出來的數字再放入value中\n",
        "3. 請試著多做幾次，你覺得An會有什麼規律？\n"
      ],
      "metadata": {
        "id": "HT2PzR8k01Ig"
      }
    },
    {
      "cell_type": "code",
      "source": [
        "class An:\n",
        "  def __init__(self, value: str):\n",
        "    self.value = value\n",
        "\n",
        "  def next(self):\n",
        "    temp = 0\n",
        "    for i in self.value:\n",
        "      temp += int(i)**2\n",
        "\n",
        "    self.value = str(temp)\n",
        "    print(self.value)\n",
        "\n",
        "\n",
        "an = An(input(\"請輸入一個數字：\"))\n",
        "\n",
        "is_run = True\n",
        "while is_run:\n",
        "\n",
        "  an.next()\n",
        "\n",
        "  is_again = input(\"是否再算一次？（Y/N）\")\n",
        "  if (is_again == \"N\" or is_again == \"n\"):\n",
        "    is_run = False"
      ],
      "metadata": {
        "id": "0sSGoSCH09l2",
        "colab": {
          "base_uri": "https://localhost:8080/"
        },
        "outputId": "a223d26e-63da-49ee-a479-b2aeb83b0674"
      },
      "execution_count": 23,
      "outputs": [
        {
          "name": "stdout",
          "output_type": "stream",
          "text": [
            "請輸入一個數字：2\n",
            "4\n",
            "是否再算一次？（Y/N）Y\n",
            "16\n",
            "是否再算一次？（Y/N）Y\n",
            "37\n",
            "是否再算一次？（Y/N）Y\n",
            "58\n",
            "是否再算一次？（Y/N）Y\n",
            "89\n",
            "是否再算一次？（Y/N）Y\n",
            "145\n",
            "是否再算一次？（Y/N）Y\n",
            "42\n",
            "是否再算一次？（Y/N）Y\n",
            "20\n",
            "是否再算一次？（Y/N）Y\n",
            "4\n",
            "是否再算一次？（Y/N）N\n"
          ]
        }
      ]
    },
    {
      "cell_type": "markdown",
      "source": [
        "任何大於一的數最後都會切回到 4 > 16 > 37 > 58 > 89 > 145 > 42 > 20 這個循環"
      ],
      "metadata": {
        "id": "zHd7gZzZh75_"
      }
    },
    {
      "cell_type": "markdown",
      "source": [
        "# 第三題：請以字典方式寫出今天import過的模組\n",
        "1. 請至少寫出三個你自己今天import過的模組，以及它對應的功用。並且把它放入一個名為My_Module_Learning的字典dict中。"
      ],
      "metadata": {
        "id": "mYBywUed1KAj"
      }
    },
    {
      "cell_type": "code",
      "source": [
        "My_Module_Learning = {0: \"沒有 inport module\"}\n",
        "\n",
        "print(My_Module_Learning)"
      ],
      "metadata": {
        "id": "0bYUI0Dh2DxX",
        "colab": {
          "base_uri": "https://localhost:8080/"
        },
        "outputId": "ec18b226-74fc-404d-c75b-941a7ca1418f"
      },
      "execution_count": 24,
      "outputs": [
        {
          "output_type": "stream",
          "name": "stdout",
          "text": [
            "{0: '沒有 inport module'}\n"
          ]
        }
      ]
    },
    {
      "cell_type": "markdown",
      "source": [
        "# 第四題：自行設計\n",
        "請自行設計一個物件，你得說明這個物件你的設計想法，然後跟你的生活有什麼關連性，這個物件至少必須包含了兩個屬性及一個方法。"
      ],
      "metadata": {
        "id": "IJ46ovzl2EP4"
      }
    },
    {
      "cell_type": "markdown",
      "source": [
        "說明:"
      ],
      "metadata": {
        "id": "4XgrezwsdKWI"
      }
    },
    {
      "cell_type": "code",
      "source": [
        "class Phone:\n",
        "  def __init__(self, phone_number: str):\n",
        "    self.phone_number = phone_number\n",
        "    self.contact = {}\n",
        "\n",
        "  def add_contact(self, person_name: str, person_number: str):\n",
        "    print(f\"add {person_name}\")\n",
        "    self.contact[person_name] = person_number\n",
        "\n",
        "  def show_contact(self):\n",
        "    print(f\"Show all contact：{self.contact}\")\n",
        "\n",
        "\n",
        "phone = Phone(phone_number=\"0903655705\")\n",
        "print(f\"My phone number is {phone.phone_number}\\n\")\n",
        "\n",
        "phone.add_contact(person_name=\"J\", person_number=\"0911111111\")\n",
        "phone.show_contact()\n",
        "\n",
        "phone.add_contact(person_name=\"E\", person_number=\"0999999999\")\n",
        "phone.show_contact()\n",
        "\n",
        "phone.add_contact(person_name=\"S\", person_number=\"0988888888\")\n",
        "phone.show_contact()"
      ],
      "metadata": {
        "id": "cwkX26HL2rfQ",
        "colab": {
          "base_uri": "https://localhost:8080/"
        },
        "outputId": "6583b082-a18c-479e-8a48-6c063c21b30c"
      },
      "execution_count": 40,
      "outputs": [
        {
          "output_type": "stream",
          "name": "stdout",
          "text": [
            "My phone number is 0903655705\n",
            "\n",
            "add J\n",
            "Show all contact：{'J': '0911111111'}\n",
            "add E\n",
            "Show all contact：{'J': '0911111111', 'E': '0999999999'}\n",
            "add S\n",
            "Show all contact：{'J': '0911111111', 'E': '0999999999', 'S': '0988888888'}\n"
          ]
        }
      ]
    }
  ]
}